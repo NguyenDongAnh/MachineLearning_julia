{
 "cells": [
  {
   "cell_type": "code",
   "execution_count": 1,
   "metadata": {},
   "outputs": [
    {
     "data": {
      "text/plain": [
       "checkCol (generic function with 1 method)"
      ]
     },
     "execution_count": 1,
     "metadata": {},
     "output_type": "execute_result"
    }
   ],
   "source": [
    "X = zeros(3,3)\n",
    "N,D = size(X)\n",
    "function checkCol(X,Sum_)\n",
    "    sumCol_X=sum(X,dims=1)\n",
    "    checkSum=sum(sumCol_X .== Sum_)\n",
    "    if(checkSum == 3) \n",
    "        return true\n",
    "    else\n",
    "        return false\n",
    "    end\n",
    "end"
   ]
  },
  {
   "cell_type": "code",
   "execution_count": 2,
   "metadata": {},
   "outputs": [
    {
     "data": {
      "text/plain": [
       "checkRow (generic function with 1 method)"
      ]
     },
     "execution_count": 2,
     "metadata": {},
     "output_type": "execute_result"
    }
   ],
   "source": [
    "function checkRow(X,Sum_)\n",
    "    sumRow_X=sum(X,dims=2)\n",
    "    checkSum=sum(sumRow_X .== Sum_)\n",
    "    if(checkSum == 3) \n",
    "        return true\n",
    "    else\n",
    "        return false\n",
    "    end\n",
    "end"
   ]
  },
  {
   "cell_type": "code",
   "execution_count": 3,
   "metadata": {},
   "outputs": [
    {
     "data": {
      "text/plain": [
       "checkCross (generic function with 1 method)"
      ]
     },
     "execution_count": 3,
     "metadata": {},
     "output_type": "execute_result"
    }
   ],
   "source": [
    "function checkCross(X,Sum_)\n",
    "    checkSum = sum( [[sum(i->X[i,i],1:3)] [sum(i->X[N+1-i,i],1:3)]] .== Sum_)\n",
    "    if(checkSum == 2)\n",
    "        return true\n",
    "    else\n",
    "        return false\n",
    "    end\n",
    "end"
   ]
  },
  {
   "cell_type": "code",
   "execution_count": 6,
   "metadata": {},
   "outputs": [
    {
     "data": {
      "text/plain": [
       "fillNumber (generic function with 1 method)"
      ]
     },
     "execution_count": 6,
     "metadata": {},
     "output_type": "execute_result"
    }
   ],
   "source": [
    "function fillNumber(X,Sum_,i,j)\n",
    "    for k = 0:9\n",
    "        if(i==3 && j==3)\n",
    "            X[i,j]=k\n",
    "            if(checkCol(X,Sum_) && checkCross(X,Sum_) && checkRow(X,Sum_))\n",
    "                show(stdout, \"text/plain\", convert(Array{Int64,2}, X))\n",
    "                println()\n",
    "                return X\n",
    "            end        \n",
    "        elseif(j==3)\n",
    "            X[i,j]=k\n",
    "            fillNumber(X,Sum_,i+1,1)\n",
    "        else\n",
    "            X[i,j]=k\n",
    "            fillNumber(X,Sum_,i,j+1)\n",
    "        end\n",
    "    end\n",
    "end"
   ]
  },
  {
   "cell_type": "code",
   "execution_count": 7,
   "metadata": {},
   "outputs": [
    {
     "name": "stdout",
     "output_type": "stream",
     "text": [
      "3×3 Array{Int64,2}:\n",
      " 1  9  5\n",
      " 9  5  1\n",
      " 5  1  9\n",
      "3×3 Array{Int64,2}:\n",
      " 2  7  6\n",
      " 9  5  1\n",
      " 4  3  8\n",
      "3×3 Array{Int64,2}:\n",
      " 2  8  5\n",
      " 8  5  2\n",
      " 5  2  8\n",
      "3×3 Array{Int64,2}:\n",
      " 2  9  4\n",
      " 7  5  3\n",
      " 6  1  8\n",
      "3×3 Array{Int64,2}:\n",
      " 3  5  7\n",
      " 9  5  1\n",
      " 3  5  7\n",
      "3×3 Array{Int64,2}:\n",
      " 3  6  6\n",
      " 8  5  2\n",
      " 4  4  7\n",
      "3×3 Array{Int64,2}:\n",
      " 3  7  5\n",
      " 7  5  3\n",
      " 5  3  7\n",
      "3×3 Array{Int64,2}:\n",
      " 3  8  4\n",
      " 6  5  4\n",
      " 6  2  7\n",
      "3×3 Array{Int64,2}:\n",
      " 3  9  3\n",
      " 5  5  5\n",
      " 7  1  7\n",
      "3×3 Array{Int64,2}:\n",
      " 4  3  8\n",
      " 9  5  1\n",
      " 2  7  6\n",
      "3×3 Array{Int64,2}:\n",
      " 4  4  7\n",
      " 8  5  2\n",
      " 3  6  6\n",
      "3×3 Array{Int64,2}:\n",
      " 4  5  6\n",
      " 7  5  3\n",
      " 4  5  6\n",
      "3×3 Array{Int64,2}:\n",
      " 4  6  5\n",
      " 6  5  4\n",
      " 5  4  6\n",
      "3×3 Array{Int64,2}:\n",
      " 4  7  4\n",
      " 5  5  5\n",
      " 6  3  6\n",
      "3×3 Array{Int64,2}:\n",
      " 4  8  3\n",
      " 4  5  6\n",
      " 7  2  6\n",
      "3×3 Array{Int64,2}:\n",
      " 4  9  2\n",
      " 3  5  7\n",
      " 8  1  6\n",
      "3×3 Array{Int64,2}:\n",
      " 5  1  9\n",
      " 9  5  1\n",
      " 1  9  5\n",
      "3×3 Array{Int64,2}:\n",
      " 5  2  8\n",
      " 8  5  2\n",
      " 2  8  5\n",
      "3×3 Array{Int64,2}:\n",
      " 5  3  7\n",
      " 7  5  3\n",
      " 3  7  5\n",
      "3×3 Array{Int64,2}:\n",
      " 5  4  6\n",
      " 6  5  4\n",
      " 4  6  5\n",
      "3×3 Array{Int64,2}:\n",
      " 5  5  5\n",
      " 5  5  5\n",
      " 5  5  5\n",
      "3×3 Array{Int64,2}:\n",
      " 5  6  4\n",
      " 4  5  6\n",
      " 6  4  5\n",
      "3×3 Array{Int64,2}:\n",
      " 5  7  3\n",
      " 3  5  7\n",
      " 7  3  5\n",
      "3×3 Array{Int64,2}:\n",
      " 5  8  2\n",
      " 2  5  8\n",
      " 8  2  5\n",
      "3×3 Array{Int64,2}:\n",
      " 5  9  1\n",
      " 1  5  9\n",
      " 9  1  5\n",
      "3×3 Array{Int64,2}:\n",
      " 6  1  8\n",
      " 7  5  3\n",
      " 2  9  4\n",
      "3×3 Array{Int64,2}:\n",
      " 6  2  7\n",
      " 6  5  4\n",
      " 3  8  4\n",
      "3×3 Array{Int64,2}:\n",
      " 6  3  6\n",
      " 5  5  5\n",
      " 4  7  4\n",
      "3×3 Array{Int64,2}:\n",
      " 6  4  5\n",
      " 4  5  6\n",
      " 5  6  4\n",
      "3×3 Array{Int64,2}:\n",
      " 6  5  4\n",
      " 3  5  7\n",
      " 6  5  4\n",
      "3×3 Array{Int64,2}:\n",
      " 6  6  3\n",
      " 2  5  8\n",
      " 7  4  4\n",
      "3×3 Array{Int64,2}:\n",
      " 6  7  2\n",
      " 1  5  9\n",
      " 8  3  4\n",
      "3×3 Array{Int64,2}:\n",
      " 7  1  7\n",
      " 5  5  5\n",
      " 3  9  3\n",
      "3×3 Array{Int64,2}:\n",
      " 7  2  6\n",
      " 4  5  6\n",
      " 4  8  3\n",
      "3×3 Array{Int64,2}:\n",
      " 7  3  5\n",
      " 3  5  7\n",
      " 5  7  3\n",
      "3×3 Array{Int64,2}:\n",
      " 7  4  4\n",
      " 2  5  8\n",
      " 6  6  3\n",
      "3×3 Array{Int64,2}:\n",
      " 7  5  3\n",
      " 1  5  9\n",
      " 7  5  3\n",
      "3×3 Array{Int64,2}:\n",
      " 8  1  6\n",
      " 3  5  7\n",
      " 4  9  2\n",
      "3×3 Array{Int64,2}:\n",
      " 8  2  5\n",
      " 2  5  8\n",
      " 5  8  2\n",
      "3×3 Array{Int64,2}:\n",
      " 8  3  4\n",
      " 1  5  9\n",
      " 6  7  2\n",
      "3×3 Array{Int64,2}:\n",
      " 9  1  5\n",
      " 1  5  9\n",
      " 5  9  1\n"
     ]
    }
   ],
   "source": [
    "fillNumber(X,15,1,1)"
   ]
  },
  {
   "cell_type": "code",
   "execution_count": 7,
   "metadata": {},
   "outputs": [],
   "source": [
    "fillNumber(X,10,1,1)"
   ]
  },
  {
   "cell_type": "code",
   "execution_count": 13,
   "metadata": {},
   "outputs": [
    {
     "data": {
      "text/plain": [
       "3×3 Array{Float64,2}:\n",
       " 9.0  9.0  9.0\n",
       " 9.0  9.0  9.0\n",
       " 9.0  9.0  9.0"
      ]
     },
     "execution_count": 13,
     "metadata": {},
     "output_type": "execute_result"
    }
   ],
   "source": [
    "X"
   ]
  },
  {
   "cell_type": "code",
   "execution_count": null,
   "metadata": {},
   "outputs": [],
   "source": []
  }
 ],
 "metadata": {
  "kernelspec": {
   "display_name": "Julia 1.5.2",
   "language": "julia",
   "name": "julia-1.5"
  },
  "language_info": {
   "file_extension": ".jl",
   "mimetype": "application/julia",
   "name": "julia",
   "version": "1.5.2"
  }
 },
 "nbformat": 4,
 "nbformat_minor": 4
}
