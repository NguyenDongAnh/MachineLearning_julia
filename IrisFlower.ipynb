{
 "cells": [
  {
   "cell_type": "code",
   "execution_count": 1,
   "metadata": {},
   "outputs": [],
   "source": [
    "using DelimitedFiles"
   ]
  },
  {
   "cell_type": "code",
   "execution_count": 49,
   "metadata": {},
   "outputs": [
    {
     "data": {
      "text/plain": [
       "130×5 Array{Float64,2}:\n",
       " 1.0  5.1  3.5  1.4  0.2\n",
       " 1.0  4.7  3.2  1.3  0.2\n",
       " 1.0  4.6  3.1  1.5  0.2\n",
       " 1.0  5.0  3.6  1.4  0.2\n",
       " 1.0  4.6  3.4  1.4  0.3\n",
       " 1.0  4.4  2.9  1.4  0.2\n",
       " 1.0  4.9  3.1  1.5  0.1\n",
       " 1.0  5.4  3.7  1.5  0.2\n",
       " 1.0  4.8  3.4  1.6  0.2\n",
       " 1.0  4.8  3.0  1.4  0.1\n",
       " 1.0  4.3  3.0  1.1  0.1\n",
       " 1.0  5.8  4.0  1.2  0.2\n",
       " 1.0  5.7  4.4  1.5  0.4\n",
       " ⋮                   \n",
       " 3.0  6.1  2.6  5.6  1.4\n",
       " 3.0  6.3  3.4  5.6  2.4\n",
       " 3.0  6.0  3.0  4.8  1.8\n",
       " 3.0  6.9  3.1  5.4  2.1\n",
       " 3.0  6.7  3.1  5.6  2.4\n",
       " 3.0  6.9  3.1  5.1  2.3\n",
       " 3.0  5.8  2.7  5.1  1.9\n",
       " 3.0  6.7  3.3  5.7  2.5\n",
       " 3.0  6.3  2.5  5.0  1.9\n",
       " 3.0  6.5  3.0  5.2  2.0\n",
       " 3.0  6.2  3.4  5.4  2.3\n",
       " 3.0  5.9  3.0  5.1  1.8"
      ]
     },
     "execution_count": 49,
     "metadata": {},
     "output_type": "execute_result"
    }
   ],
   "source": [
    "A = readdlm(\"D:/julia-workspace/iris-train.txt\", '\\t', Float64, '\\n')"
   ]
  },
  {
   "cell_type": "code",
   "execution_count": 50,
   "metadata": {},
   "outputs": [
    {
     "data": {
      "text/plain": [
       "130-element Array{Float64,1}:\n",
       " 1.0\n",
       " 1.0\n",
       " 1.0\n",
       " 1.0\n",
       " 1.0\n",
       " 1.0\n",
       " 1.0\n",
       " 1.0\n",
       " 1.0\n",
       " 1.0\n",
       " 1.0\n",
       " 1.0\n",
       " 1.0\n",
       " ⋮\n",
       " 3.0\n",
       " 3.0\n",
       " 3.0\n",
       " 3.0\n",
       " 3.0\n",
       " 3.0\n",
       " 3.0\n",
       " 3.0\n",
       " 3.0\n",
       " 3.0\n",
       " 3.0\n",
       " 3.0"
      ]
     },
     "execution_count": 50,
     "metadata": {},
     "output_type": "execute_result"
    }
   ],
   "source": [
    "y = A[:,1]"
   ]
  },
  {
   "cell_type": "code",
   "execution_count": 51,
   "metadata": {},
   "outputs": [
    {
     "data": {
      "text/plain": [
       "130×4 Array{Float64,2}:\n",
       " 5.1  3.5  1.4  0.2\n",
       " 4.7  3.2  1.3  0.2\n",
       " 4.6  3.1  1.5  0.2\n",
       " 5.0  3.6  1.4  0.2\n",
       " 4.6  3.4  1.4  0.3\n",
       " 4.4  2.9  1.4  0.2\n",
       " 4.9  3.1  1.5  0.1\n",
       " 5.4  3.7  1.5  0.2\n",
       " 4.8  3.4  1.6  0.2\n",
       " 4.8  3.0  1.4  0.1\n",
       " 4.3  3.0  1.1  0.1\n",
       " 5.8  4.0  1.2  0.2\n",
       " 5.7  4.4  1.5  0.4\n",
       " ⋮              \n",
       " 6.1  2.6  5.6  1.4\n",
       " 6.3  3.4  5.6  2.4\n",
       " 6.0  3.0  4.8  1.8\n",
       " 6.9  3.1  5.4  2.1\n",
       " 6.7  3.1  5.6  2.4\n",
       " 6.9  3.1  5.1  2.3\n",
       " 5.8  2.7  5.1  1.9\n",
       " 6.7  3.3  5.7  2.5\n",
       " 6.3  2.5  5.0  1.9\n",
       " 6.5  3.0  5.2  2.0\n",
       " 6.2  3.4  5.4  2.3\n",
       " 5.9  3.0  5.1  1.8"
      ]
     },
     "execution_count": 51,
     "metadata": {},
     "output_type": "execute_result"
    }
   ],
   "source": [
    "X = A[:,2:end]"
   ]
  },
  {
   "cell_type": "code",
   "execution_count": 52,
   "metadata": {},
   "outputs": [
    {
     "data": {
      "text/plain": [
       "(130, 4)"
      ]
     },
     "execution_count": 52,
     "metadata": {},
     "output_type": "execute_result"
    }
   ],
   "source": [
    "size(X)"
   ]
  },
  {
   "cell_type": "code",
   "execution_count": 53,
   "metadata": {},
   "outputs": [
    {
     "data": {
      "text/plain": [
       "3-element Array{Float64,1}:\n",
       " 0.0\n",
       " 0.0\n",
       " 0.0"
      ]
     },
     "execution_count": 53,
     "metadata": {},
     "output_type": "execute_result"
    }
   ],
   "source": [
    "θ = zeros(3)"
   ]
  },
  {
   "cell_type": "code",
   "execution_count": 54,
   "metadata": {},
   "outputs": [
    {
     "data": {
      "text/plain": [
       "(130, 4)"
      ]
     },
     "execution_count": 54,
     "metadata": {},
     "output_type": "execute_result"
    }
   ],
   "source": [
    "N, D = size(X)"
   ]
  },
  {
   "cell_type": "code",
   "execution_count": 55,
   "metadata": {},
   "outputs": [
    {
     "data": {
      "text/plain": [
       "3"
      ]
     },
     "execution_count": 55,
     "metadata": {},
     "output_type": "execute_result"
    }
   ],
   "source": [
    "K = 3"
   ]
  },
  {
   "cell_type": "code",
   "execution_count": 56,
   "metadata": {},
   "outputs": [
    {
     "data": {
      "text/plain": [
       "3×4 Array{Float64,2}:\n",
       " 0.0  0.0  0.0  0.0\n",
       " 0.0  0.0  0.0  0.0\n",
       " 0.0  0.0  0.0  0.0"
      ]
     },
     "execution_count": 56,
     "metadata": {},
     "output_type": "execute_result"
    }
   ],
   "source": [
    "μ = zeros(K,D)\n",
    "σ = zeros(K,D)"
   ]
  },
  {
   "cell_type": "code",
   "execution_count": 57,
   "metadata": {},
   "outputs": [
    {
     "data": {
      "text/plain": [
       "3-element Array{Float64,1}:\n",
       " 0.33076923076923076\n",
       " 0.3384615384615385\n",
       " 0.33076923076923076"
      ]
     },
     "execution_count": 57,
     "metadata": {},
     "output_type": "execute_result"
    }
   ],
   "source": [
    "θ[1] = sum(y .==1)/N\n",
    "θ[2] = sum(y .==2)/N\n",
    "θ[3] = sum(y .==3)/N\n",
    "θ"
   ]
  },
  {
   "cell_type": "code",
   "execution_count": 58,
   "metadata": {},
   "outputs": [
    {
     "data": {
      "text/plain": [
       "43×4 Array{Float64,2}:\n",
       " 6.3  3.3  6.0  2.5\n",
       " 5.8  2.7  5.1  1.9\n",
       " 7.1  3.0  5.9  2.1\n",
       " 6.3  2.9  5.6  1.8\n",
       " 6.5  3.0  5.8  2.2\n",
       " 7.6  3.0  6.6  2.1\n",
       " 4.9  2.5  4.5  1.7\n",
       " 6.7  2.5  5.8  1.8\n",
       " 7.2  3.6  6.1  2.5\n",
       " 6.5  3.2  5.1  2.0\n",
       " 6.4  2.7  5.3  1.9\n",
       " 6.8  3.0  5.5  2.1\n",
       " 5.8  2.8  5.1  2.4\n",
       " ⋮              \n",
       " 6.1  2.6  5.6  1.4\n",
       " 6.3  3.4  5.6  2.4\n",
       " 6.0  3.0  4.8  1.8\n",
       " 6.9  3.1  5.4  2.1\n",
       " 6.7  3.1  5.6  2.4\n",
       " 6.9  3.1  5.1  2.3\n",
       " 5.8  2.7  5.1  1.9\n",
       " 6.7  3.3  5.7  2.5\n",
       " 6.3  2.5  5.0  1.9\n",
       " 6.5  3.0  5.2  2.0\n",
       " 6.2  3.4  5.4  2.3\n",
       " 5.9  3.0  5.1  1.8"
      ]
     },
     "execution_count": 58,
     "metadata": {},
     "output_type": "execute_result"
    }
   ],
   "source": [
    "X_1 = X[y .==1, :]\n",
    "X_2 = X[y .==2, :]\n",
    "X_3 = X[y .==3, :]"
   ]
  },
  {
   "cell_type": "code",
   "execution_count": 59,
   "metadata": {},
   "outputs": [
    {
     "data": {
      "text/plain": [
       "3×4 Array{Float64,2}:\n",
       " 5.01395  3.40233  1.46279  0.24186\n",
       " 5.90227  2.75909  4.22955  1.31364\n",
       " 6.56047  2.96977  5.53256  2.01628"
      ]
     },
     "execution_count": 59,
     "metadata": {},
     "output_type": "execute_result"
    }
   ],
   "source": [
    "using Statistics\n",
    "# giá trị trung bình một thuộc tính trong X_1(y = 1)\n",
    "μ[1,:] = mean(X_1, dims = 1)\n",
    "# giá trị trung bình một thuộc tính trong X_2(y = 2)\n",
    "μ[2,:] = mean(X_2, dims = 1)\n",
    "μ[3,:] = mean(X_3, dims = 1)\n",
    "μ"
   ]
  },
  {
   "cell_type": "code",
   "execution_count": 60,
   "metadata": {},
   "outputs": [
    {
     "data": {
      "text/plain": [
       "3×4 Array{Float64,2}:\n",
       " 0.354952  0.390048  0.152789  0.109615\n",
       " 0.520505  0.311275  0.483485  0.204133\n",
       " 0.638875  0.33419   0.566409  0.282784"
      ]
     },
     "execution_count": 60,
     "metadata": {},
     "output_type": "execute_result"
    }
   ],
   "source": [
    "σ[1,:] = std(X_1,dims = 1)\n",
    "σ[2,:] = std(X_2,dims = 1)\n",
    "σ[3,:] = std(X_3,dims = 1)\n",
    "σ"
   ]
  },
  {
   "cell_type": "code",
   "execution_count": 61,
   "metadata": {},
   "outputs": [
    {
     "data": {
      "text/plain": [
       "train (generic function with 1 method)"
      ]
     },
     "execution_count": 61,
     "metadata": {},
     "output_type": "execute_result"
    }
   ],
   "source": [
    "function train(X,y)\n",
    "    N, D = size(X)\n",
    "    K = length(unique(y))\n",
    "    θ = zeros(K)\n",
    "    μ = zeros(K,D)\n",
    "    σ = zeros(K,D)\n",
    "    for k =1:K\n",
    "        θ[k] = sum(y .== k)/N\n",
    "        X_k = X[y.==k,:]\n",
    "        μ[k,:] = mean(X_k, dims = 1)\n",
    "        σ[k,:] = std(X_k,dims = 1)\n",
    "    end\n",
    "    (θ,μ,σ)\n",
    "end"
   ]
  },
  {
   "cell_type": "code",
   "execution_count": 62,
   "metadata": {},
   "outputs": [
    {
     "data": {
      "text/plain": [
       "([0.33076923076923076, 0.3384615384615385, 0.33076923076923076], [5.013953488372093 3.40232558139535 1.4627906976744185 0.24186046511627904; 5.902272727272727 2.759090909090909 4.229545454545454 1.3136363636363635; 6.560465116279069 2.9697674418604647 5.532558139534883 2.016279069767442], [0.35495230756018964 0.39004784327604836 0.15278876768419214 0.109615253847122; 0.5205045121282594 0.3112750834709582 0.4834851891406739 0.20413277609154645; 0.6388753268658623 0.33419048155557596 0.5664092959926881 0.28278397657688786])"
      ]
     },
     "execution_count": 62,
     "metadata": {},
     "output_type": "execute_result"
    }
   ],
   "source": [
    "(θ, μ, σ) = train(X,y)"
   ]
  },
  {
   "cell_type": "code",
   "execution_count": 63,
   "metadata": {},
   "outputs": [
    {
     "data": {
      "text/plain": [
       "classify (generic function with 1 method)"
      ]
     },
     "execution_count": 63,
     "metadata": {},
     "output_type": "execute_result"
    }
   ],
   "source": [
    "function classify(xNew, θ, μ, σ)\n",
    "    K = length(θ)\n",
    "    scores = zeros(K)\n",
    "    for k =1:K\n",
    "        α_k = log(θ[k])\n",
    "        u = (xNew - μ[k, :])./σ[k, :]\n",
    "        β_k = sum(log.(σ[k, :])) + sum(u.*u)/2\n",
    "        scores[k] = α_k - β_k\n",
    "    end\n",
    "    return argmax(scores)\n",
    "end"
   ]
  },
  {
   "cell_type": "code",
   "execution_count": 64,
   "metadata": {},
   "outputs": [],
   "source": [
    "ŷ = zeros(N)\n",
    "for i = 1:N\n",
    "    ŷ[i] = classify(X[i,:],θ,μ,σ)\n",
    "end"
   ]
  },
  {
   "cell_type": "code",
   "execution_count": 65,
   "metadata": {},
   "outputs": [
    {
     "data": {
      "text/plain": [
       "130-element Array{Float64,1}:\n",
       " 1.0\n",
       " 1.0\n",
       " 1.0\n",
       " 1.0\n",
       " 1.0\n",
       " 1.0\n",
       " 1.0\n",
       " 1.0\n",
       " 1.0\n",
       " 1.0\n",
       " 1.0\n",
       " 1.0\n",
       " 1.0\n",
       " ⋮\n",
       " 3.0\n",
       " 3.0\n",
       " 3.0\n",
       " 3.0\n",
       " 3.0\n",
       " 3.0\n",
       " 3.0\n",
       " 3.0\n",
       " 3.0\n",
       " 3.0\n",
       " 3.0\n",
       " 3.0"
      ]
     },
     "execution_count": 65,
     "metadata": {},
     "output_type": "execute_result"
    }
   ],
   "source": [
    "ŷ"
   ]
  },
  {
   "cell_type": "code",
   "execution_count": 66,
   "metadata": {},
   "outputs": [
    {
     "data": {
      "text/plain": [
       "0.9538461538461539"
      ]
     },
     "execution_count": 66,
     "metadata": {},
     "output_type": "execute_result"
    }
   ],
   "source": [
    "accuracy = sum(y .== ŷ)/N"
   ]
  },
  {
   "cell_type": "code",
   "execution_count": 67,
   "metadata": {},
   "outputs": [
    {
     "data": {
      "text/plain": [
       "evaluate (generic function with 1 method)"
      ]
     },
     "execution_count": 67,
     "metadata": {},
     "output_type": "execute_result"
    }
   ],
   "source": [
    "function evaluate(X, y, θ, μ, σ)\n",
    "    N = length(y)\n",
    "    ŷ = zeros(N)\n",
    "    for i =1:N \n",
    "        ŷ[i] = classify(X[i,:],θ,μ,σ)\n",
    "    end\n",
    "    sum(y .== ŷ)/N\n",
    "end"
   ]
  },
  {
   "cell_type": "code",
   "execution_count": 68,
   "metadata": {},
   "outputs": [
    {
     "data": {
      "text/plain": [
       "0.96"
      ]
     },
     "execution_count": 68,
     "metadata": {},
     "output_type": "execute_result"
    }
   ],
   "source": [
    "evaluate(X[1:100,:],y[1:100],θ,μ,σ)"
   ]
  },
  {
   "cell_type": "code",
   "execution_count": null,
   "metadata": {},
   "outputs": [],
   "source": []
  }
 ],
 "metadata": {
  "kernelspec": {
   "display_name": "Julia 1.5.1",
   "language": "julia",
   "name": "julia-1.5"
  },
  "language_info": {
   "file_extension": ".jl",
   "mimetype": "application/julia",
   "name": "julia",
   "version": "1.5.1"
  }
 },
 "nbformat": 4,
 "nbformat_minor": 4
}
