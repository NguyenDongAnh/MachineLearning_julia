{
 "cells": [
  {
   "cell_type": "code",
   "execution_count": 67,
   "metadata": {},
   "outputs": [],
   "source": [
    "using Statistics"
   ]
  },
  {
   "cell_type": "code",
   "execution_count": 68,
   "metadata": {},
   "outputs": [
    {
     "data": {
      "text/plain": [
       "100×5 Array{Float64,2}:\n",
       " 0.398049   0.562395   0.278028   0.12494    0.620032\n",
       " 0.496877   0.374188   0.695963   0.0709969  0.533827\n",
       " 0.862982   0.412502   0.980658   0.890264   0.959013\n",
       " 0.35408    0.661027   0.679981   0.233785   0.437156\n",
       " 0.637887   0.619463   0.575172   0.911357   0.59886\n",
       " 0.0738831  0.890355   0.17928    0.830928   0.696724\n",
       " 0.619954   0.296331   0.228374   0.0661369  0.143637\n",
       " 0.258642   0.225818   0.66546    0.422294   0.462173\n",
       " 0.750841   0.47186    0.196995   0.59112    0.241832\n",
       " 0.113317   0.732693   0.880722   0.984417   0.774432\n",
       " 0.490587   0.714802   0.827422   0.349812   0.458655\n",
       " 0.92588    0.0486633  0.985968   0.754411   0.714053\n",
       " 0.386675   0.670268   0.152848   0.519207   0.905096\n",
       " ⋮                                           \n",
       " 0.913332   0.754547   0.190471   0.894399   0.528533\n",
       " 0.0188619  0.210814   0.342898   0.156433   0.696504\n",
       " 0.11999    0.952513   0.116305   0.820576   0.593589\n",
       " 0.227261   0.346681   0.117989   0.117826   0.365321\n",
       " 0.807115   0.0517557  0.470602   0.697954   0.661759\n",
       " 0.224473   0.752663   0.583336   0.336954   0.143968\n",
       " 0.0212021  0.47346    0.548723   0.46834    0.298978\n",
       " 0.751849   0.718814   0.0981025  0.671577   0.222846\n",
       " 0.41981    0.889792   0.412199   0.391869   0.373725\n",
       " 0.715563   0.84759    0.662419   0.373781   0.542168\n",
       " 0.497502   0.866206   0.211809   0.442477   0.904512\n",
       " 0.123926   0.988075   0.837644   0.717271   0.99189"
      ]
     },
     "execution_count": 68,
     "metadata": {},
     "output_type": "execute_result"
    }
   ],
   "source": [
    "X = rand(100, 5)"
   ]
  },
  {
   "cell_type": "code",
   "execution_count": 69,
   "metadata": {},
   "outputs": [
    {
     "data": {
      "text/plain": [
       "1×5 Array{Float64,2}:\n",
       " 0.679251  0.910464  0.584482  0.711124  0.177633"
      ]
     },
     "execution_count": 69,
     "metadata": {},
     "output_type": "execute_result"
    }
   ],
   "source": [
    "x = rand(1,5)"
   ]
  },
  {
   "cell_type": "code",
   "execution_count": 87,
   "metadata": {},
   "outputs": [
    {
     "data": {
      "text/plain": [
       "100-element Array{Int64,1}:\n",
       " 2\n",
       " 3\n",
       " 1\n",
       " 2\n",
       " 3\n",
       " 2\n",
       " 2\n",
       " 1\n",
       " 1\n",
       " 2\n",
       " 2\n",
       " 2\n",
       " 2\n",
       " ⋮\n",
       " 1\n",
       " 3\n",
       " 2\n",
       " 1\n",
       " 2\n",
       " 1\n",
       " 3\n",
       " 2\n",
       " 2\n",
       " 2\n",
       " 2\n",
       " 2"
      ]
     },
     "execution_count": 87,
     "metadata": {},
     "output_type": "execute_result"
    }
   ],
   "source": [
    "y = rand(1:3,100)"
   ]
  },
  {
   "cell_type": "code",
   "execution_count": 88,
   "metadata": {},
   "outputs": [
    {
     "data": {
      "text/plain": [
       "classify1 (generic function with 1 method)"
      ]
     },
     "execution_count": 88,
     "metadata": {},
     "output_type": "execute_result"
    }
   ],
   "source": [
    "function classify1(X,y,xNew,k)\n",
    "    A = std(X .- xNew,dims=2)[:]\n",
    "    B = sort(A)[1:k]\n",
    "    indexs = indexin(B,A)\n",
    "    scores = map(i-> sum(y[indexs] .== i) ,1:length(unique(y)))\n",
    "    argmax(scores), scores\n",
    "end"
   ]
  },
  {
   "cell_type": "code",
   "execution_count": 89,
   "metadata": {},
   "outputs": [
    {
     "data": {
      "text/plain": [
       "(1, [16, 11, 13])"
      ]
     },
     "execution_count": 89,
     "metadata": {},
     "output_type": "execute_result"
    }
   ],
   "source": [
    "classify1(X,y,x,40)"
   ]
  },
  {
   "cell_type": "code",
   "execution_count": 90,
   "metadata": {},
   "outputs": [
    {
     "data": {
      "text/plain": [
       "classify (generic function with 1 method)"
      ]
     },
     "execution_count": 90,
     "metadata": {},
     "output_type": "execute_result"
    }
   ],
   "source": [
    "function classify(X,y,xNew,k)\n",
    "    A = X .- xNew\n",
    "    distance = sum(A.^2,dims=2)[:]\n",
    "    B = sort(C)[1:k]\n",
    "    indexs = indexin(B,C)\n",
    "    scores = map(i-> sum(y[indexs] .== i) ,1:length(unique(y)))\n",
    "    argmax(scores), scores\n",
    "end"
   ]
  },
  {
   "cell_type": "code",
   "execution_count": 91,
   "metadata": {},
   "outputs": [
    {
     "data": {
      "text/plain": [
       "(1, [16, 8, 16])"
      ]
     },
     "execution_count": 91,
     "metadata": {},
     "output_type": "execute_result"
    }
   ],
   "source": [
    "classify(X,y,x,40)"
   ]
  },
  {
   "cell_type": "code",
   "execution_count": null,
   "metadata": {},
   "outputs": [],
   "source": []
  }
 ],
 "metadata": {
  "kernelspec": {
   "display_name": "Julia (6 threads) 1.5.2",
   "language": "julia",
   "name": "julia-(6-threads)-1.5"
  },
  "language_info": {
   "file_extension": ".jl",
   "mimetype": "application/julia",
   "name": "julia",
   "version": "1.5.2"
  }
 },
 "nbformat": 4,
 "nbformat_minor": 4
}
