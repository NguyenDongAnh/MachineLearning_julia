{
 "cells": [
  {
   "cell_type": "code",
   "execution_count": 1,
   "metadata": {},
   "outputs": [],
   "source": [
    "using DelimitedFiles\n",
    "using LinearAlgebra"
   ]
  },
  {
   "cell_type": "code",
   "execution_count": 2,
   "metadata": {},
   "outputs": [
    {
     "data": {
      "text/plain": [
       "100×3 Array{Float64,2}:\n",
       " 34.6237  78.0247  0.0\n",
       " 30.2867  43.895   0.0\n",
       " 35.8474  72.9022  0.0\n",
       " 60.1826  86.3086  1.0\n",
       " 79.0327  75.3444  1.0\n",
       " 45.0833  56.3164  0.0\n",
       " 61.1067  96.5114  1.0\n",
       " 75.0247  46.554   1.0\n",
       " 76.0988  87.4206  1.0\n",
       " 84.4328  43.5334  1.0\n",
       " 95.8616  38.2253  0.0\n",
       " 75.0137  30.6033  0.0\n",
       " 82.3071  76.482   1.0\n",
       "  ⋮                \n",
       " 78.6354  96.6474  1.0\n",
       " 52.348   60.7695  0.0\n",
       " 94.0943  77.1591  1.0\n",
       " 90.4486  87.5088  1.0\n",
       " 55.4822  35.5707  0.0\n",
       " 74.4927  84.8451  1.0\n",
       " 89.8458  45.3583  1.0\n",
       " 83.4892  48.3803  1.0\n",
       " 42.2617  87.1039  1.0\n",
       " 99.315   68.7754  1.0\n",
       " 55.34    64.9319  1.0\n",
       " 74.7759  89.5298  1.0"
      ]
     },
     "execution_count": 2,
     "metadata": {},
     "output_type": "execute_result"
    }
   ],
   "source": [
    "A = readdlm(\"D:/julia-workspace/admission.txt\", ',', Float64, '\\n')"
   ]
  },
  {
   "cell_type": "code",
   "execution_count": 3,
   "metadata": {},
   "outputs": [
    {
     "data": {
      "text/plain": [
       "100-element Array{Float64,1}:\n",
       " 0.0\n",
       " 0.0\n",
       " 0.0\n",
       " 1.0\n",
       " 1.0\n",
       " 0.0\n",
       " 1.0\n",
       " 1.0\n",
       " 1.0\n",
       " 1.0\n",
       " 0.0\n",
       " 0.0\n",
       " 1.0\n",
       " ⋮\n",
       " 1.0\n",
       " 0.0\n",
       " 1.0\n",
       " 1.0\n",
       " 0.0\n",
       " 1.0\n",
       " 1.0\n",
       " 1.0\n",
       " 1.0\n",
       " 1.0\n",
       " 1.0\n",
       " 1.0"
      ]
     },
     "execution_count": 3,
     "metadata": {},
     "output_type": "execute_result"
    }
   ],
   "source": [
    "y = A[:,end]"
   ]
  },
  {
   "cell_type": "code",
   "execution_count": 4,
   "metadata": {},
   "outputs": [
    {
     "data": {
      "text/plain": [
       "100×3 Array{Float64,2}:\n",
       " 1.0  34.6237  78.0247\n",
       " 1.0  30.2867  43.895\n",
       " 1.0  35.8474  72.9022\n",
       " 1.0  60.1826  86.3086\n",
       " 1.0  79.0327  75.3444\n",
       " 1.0  45.0833  56.3164\n",
       " 1.0  61.1067  96.5114\n",
       " 1.0  75.0247  46.554\n",
       " 1.0  76.0988  87.4206\n",
       " 1.0  84.4328  43.5334\n",
       " 1.0  95.8616  38.2253\n",
       " 1.0  75.0137  30.6033\n",
       " 1.0  82.3071  76.482\n",
       " ⋮             \n",
       " 1.0  78.6354  96.6474\n",
       " 1.0  52.348   60.7695\n",
       " 1.0  94.0943  77.1591\n",
       " 1.0  90.4486  87.5088\n",
       " 1.0  55.4822  35.5707\n",
       " 1.0  74.4927  84.8451\n",
       " 1.0  89.8458  45.3583\n",
       " 1.0  83.4892  48.3803\n",
       " 1.0  42.2617  87.1039\n",
       " 1.0  99.315   68.7754\n",
       " 1.0  55.34    64.9319\n",
       " 1.0  74.7759  89.5298"
      ]
     },
     "execution_count": 4,
     "metadata": {},
     "output_type": "execute_result"
    }
   ],
   "source": [
    "X = [ones(length(y)) A[:,1:end-1]]"
   ]
  },
  {
   "cell_type": "code",
   "execution_count": 5,
   "metadata": {},
   "outputs": [
    {
     "data": {
      "text/plain": [
       "(100, 3)"
      ]
     },
     "execution_count": 5,
     "metadata": {},
     "output_type": "execute_result"
    }
   ],
   "source": [
    "(N,D) = size(X)"
   ]
  },
  {
   "cell_type": "code",
   "execution_count": 6,
   "metadata": {},
   "outputs": [
    {
     "data": {
      "text/plain": [
       "sigmoid (generic function with 1 method)"
      ]
     },
     "execution_count": 6,
     "metadata": {},
     "output_type": "execute_result"
    }
   ],
   "source": [
    "function sigmoid(a)\n",
    "   β = 1/(1+ℯ^(-a)) \n",
    "end"
   ]
  },
  {
   "cell_type": "code",
   "execution_count": 51,
   "metadata": {},
   "outputs": [
    {
     "data": {
      "text/plain": [
       "hessian (generic function with 1 method)"
      ]
     },
     "execution_count": 51,
     "metadata": {},
     "output_type": "execute_result"
    }
   ],
   "source": [
    "function hessian(X,θ)\n",
    "    N, D = size(X)\n",
    "    a = sigmoid.(X*θ)\n",
    "    b = a .* (1 .- a)\n",
    "    c = map(t->(X[t,:]*X[t,:]'),1:N)\n",
    "    H = sum(b.*c)\n",
    "#     c = Diagonal(b)\n",
    "#     H = X'*c*X\n",
    "    H\n",
    "end"
   ]
  },
  {
   "cell_type": "code",
   "execution_count": 52,
   "metadata": {},
   "outputs": [
    {
     "data": {
      "text/plain": [
       "3×3 Array{Float64,2}:\n",
       "   25.0   1641.11       1655.55\n",
       " 1641.11     1.171e5       1.08466e5\n",
       " 1655.55     1.08466e5     1.1818e5"
      ]
     },
     "execution_count": 52,
     "metadata": {},
     "output_type": "execute_result"
    }
   ],
   "source": [
    "θ = zeros(D)\n",
    "hessian(X,θ)"
   ]
  },
  {
   "cell_type": "code",
   "execution_count": 53,
   "metadata": {},
   "outputs": [
    {
     "data": {
      "text/plain": [
       "newTon_Raphson (generic function with 2 methods)"
      ]
     },
     "execution_count": 53,
     "metadata": {},
     "output_type": "execute_result"
    }
   ],
   "source": [
    "function newTon_Raphson(X,maxIterations=10)\n",
    "    N, D = size(X)\n",
    "    θ = zeros(D)\n",
    "    θs = []\n",
    "    for t = 1:maxIterations\n",
    "        b = sigmoid.(X*θ)\n",
    "        ∇= X'*(b-y)/N\n",
    "        H = hessian(X,θ)/N\n",
    "        θ = θ - H^-1*∇\n",
    "        push!(θs,θ)\n",
    "    end\n",
    "    θs\n",
    "end"
   ]
  },
  {
   "cell_type": "code",
   "execution_count": 54,
   "metadata": {},
   "outputs": [
    {
     "data": {
      "text/plain": [
       "20-element Array{Any,1}:\n",
       " [-7.189987744313788, 0.05936349904614033, 0.055768687906594755]\n",
       " [-12.439101383661573, 0.10290118777438229, 0.09734410214438814]\n",
       " [-18.026680156056358, 0.14857532168427448, 0.14284277461201994]\n",
       " [-22.7458177396772, 0.18678317031595496, 0.1816170265712656]\n",
       " [-24.868663274057734, 0.20388015094431275, 0.1990698448658108]\n",
       " [-25.15692672592341, 0.20619632901139512, 0.2014355245565627]\n",
       " [-25.16133256589908, 0.20623170525772586, 0.20147159227081424]\n",
       " [-25.161333566639534, 0.20623171329398302, 0.20147160044196347]\n",
       " [-25.16133356663959, 0.20623171329398346, 0.20147160044196394]\n",
       " [-25.16133356663956, 0.20623171329398318, 0.20147160044196366]\n",
       " [-25.161333566639538, 0.20623171329398304, 0.20147160044196352]\n",
       " [-25.161333566639556, 0.20623171329398318, 0.20147160044196366]\n",
       " [-25.161333566639573, 0.2062317132939833, 0.2014716004419638]\n",
       " [-25.161333566639566, 0.20623171329398327, 0.20147160044196374]\n",
       " [-25.161333566639552, 0.20623171329398315, 0.20147160044196363]\n",
       " [-25.161333566639584, 0.2062317132939834, 0.2014716004419639]\n",
       " [-25.16133356663956, 0.2062317132939832, 0.20147160044196366]\n",
       " [-25.16133356663956, 0.20623171329398318, 0.2014716004419637]\n",
       " [-25.161333566639545, 0.2062317132939831, 0.20147160044196358]\n",
       " [-25.161333566639577, 0.20623171329398332, 0.20147160044196383]"
      ]
     },
     "execution_count": 54,
     "metadata": {},
     "output_type": "execute_result"
    }
   ],
   "source": [
    "θs=newTon_Raphson(X,20)"
   ]
  },
  {
   "cell_type": "code",
   "execution_count": 11,
   "metadata": {},
   "outputs": [
    {
     "data": {
      "text/plain": [
       "classify (generic function with 1 method)"
      ]
     },
     "execution_count": 11,
     "metadata": {},
     "output_type": "execute_result"
    }
   ],
   "source": [
    "function classify(X, θ)\n",
    "    h = X'*θ\n",
    "    if (h<0) 0.0 else 1.0 end\n",
    "end"
   ]
  },
  {
   "cell_type": "code",
   "execution_count": 12,
   "metadata": {},
   "outputs": [
    {
     "data": {
      "text/plain": [
       "0.89"
      ]
     },
     "execution_count": 12,
     "metadata": {},
     "output_type": "execute_result"
    }
   ],
   "source": [
    "prediction = map(i->classify(X[i,:], θs[end,end]), 1:N)\n",
    "accuracy = sum(y .== prediction)/N"
   ]
  },
  {
   "cell_type": "code",
   "execution_count": 13,
   "metadata": {},
   "outputs": [],
   "source": [
    "using Optim"
   ]
  },
  {
   "cell_type": "code",
   "execution_count": 14,
   "metadata": {},
   "outputs": [
    {
     "data": {
      "text/plain": [
       "cost (generic function with 1 method)"
      ]
     },
     "execution_count": 14,
     "metadata": {},
     "output_type": "execute_result"
    }
   ],
   "source": [
    "function cost(θ::Array{Float64})::Float64\n",
    "    N = length(y)\n",
    "    h = sigmoid.(X*θ)\n",
    "    l = y'*log.(h)+(1 .- y)'*log.(1 .- h)\n",
    "    J = -l/N + 0.\n",
    "    J\n",
    "end"
   ]
  },
  {
   "cell_type": "code",
   "execution_count": 15,
   "metadata": {},
   "outputs": [
    {
     "data": {
      "text/plain": [
       "g! (generic function with 1 method)"
      ]
     },
     "execution_count": 15,
     "metadata": {},
     "output_type": "execute_result"
    }
   ],
   "source": [
    "function g!(∇, θ)\n",
    "    N = length(y)\n",
    "    h = sigmoid.(X*θ)\n",
    "    temp = X'*(h - y)/N .+ 0.\n",
    "    for j = 1:length(temp)\n",
    "        ∇[j] = temp[j]\n",
    "    end\n",
    "end"
   ]
  },
  {
   "cell_type": "code",
   "execution_count": 55,
   "metadata": {},
   "outputs": [
    {
     "data": {
      "text/plain": [
       "h! (generic function with 1 method)"
      ]
     },
     "execution_count": 55,
     "metadata": {},
     "output_type": "execute_result"
    }
   ],
   "source": [
    "function h!(H,θ)\n",
    "    N, D = size(X)\n",
    "    a = sigmoid.(X*θ)\n",
    "    b = a.*(1 .- a)\n",
    "    c = map(t->(X[t,:]*X[t,:]'),1:N)\n",
    "    temp = sum(b.*c)\n",
    "    for i=1:D\n",
    "        H[i,:] = temp[i,:]\n",
    "    end\n",
    "end"
   ]
  },
  {
   "cell_type": "code",
   "execution_count": 56,
   "metadata": {},
   "outputs": [
    {
     "data": {
      "text/plain": [
       "3-element Array{Float64,1}:\n",
       " 0.0\n",
       " 0.0\n",
       " 0.0"
      ]
     },
     "execution_count": 56,
     "metadata": {},
     "output_type": "execute_result"
    }
   ],
   "source": [
    "θ = zeros(D)"
   ]
  },
  {
   "cell_type": "code",
   "execution_count": 57,
   "metadata": {},
   "outputs": [
    {
     "data": {
      "text/plain": [
       "0.6931471805599453"
      ]
     },
     "execution_count": 57,
     "metadata": {},
     "output_type": "execute_result"
    }
   ],
   "source": [
    "cost(θ)"
   ]
  },
  {
   "cell_type": "code",
   "execution_count": 58,
   "metadata": {},
   "outputs": [
    {
     "data": {
      "text/plain": [
       " * Status: success\n",
       "\n",
       " * Candidate solution\n",
       "    Final objective value:     2.034977e-01\n",
       "\n",
       " * Found with\n",
       "    Algorithm:     L-BFGS\n",
       "\n",
       " * Convergence measures\n",
       "    |x - x'|               = 2.35e-06 ≰ 0.0e+00\n",
       "    |x - x'|/|x'|          = 9.36e-08 ≰ 0.0e+00\n",
       "    |f(x) - f(x')|         = 5.08e-15 ≰ 0.0e+00\n",
       "    |f(x) - f(x')|/|f(x')| = 2.50e-14 ≰ 0.0e+00\n",
       "    |g(x)|                 = 8.58e-10 ≤ 1.0e-08\n",
       "\n",
       " * Work counters\n",
       "    Seconds run:   0  (vs limit Inf)\n",
       "    Iterations:    16\n",
       "    f(x) calls:    58\n",
       "    ∇f(x) calls:   58\n"
      ]
     },
     "execution_count": 58,
     "metadata": {},
     "output_type": "execute_result"
    }
   ],
   "source": [
    "result=optimize(cost,g!,h!,θ,LBFGS())"
   ]
  },
  {
   "cell_type": "code",
   "execution_count": 59,
   "metadata": {},
   "outputs": [
    {
     "data": {
      "text/plain": [
       "3-element Array{Float64,1}:\n",
       " -25.161333563346147\n",
       "   0.2062317132637092\n",
       "   0.20147160041613388"
      ]
     },
     "execution_count": 59,
     "metadata": {},
     "output_type": "execute_result"
    }
   ],
   "source": [
    "θ_best = Optim.minimizer(result)"
   ]
  },
  {
   "cell_type": "code",
   "execution_count": 40,
   "metadata": {},
   "outputs": [
    {
     "data": {
      "text/plain": [
       "0.20349770158943997"
      ]
     },
     "execution_count": 40,
     "metadata": {},
     "output_type": "execute_result"
    }
   ],
   "source": [
    "cost(θ_best)"
   ]
  },
  {
   "cell_type": "code",
   "execution_count": 41,
   "metadata": {},
   "outputs": [
    {
     "data": {
      "text/plain": [
       "0.89"
      ]
     },
     "execution_count": 41,
     "metadata": {},
     "output_type": "execute_result"
    }
   ],
   "source": [
    "prediction = map(i->classify(X[i,:], θ_best), 1:N)\n",
    "accuracy = sum(y .== prediction)/N"
   ]
  },
  {
   "cell_type": "code",
   "execution_count": 42,
   "metadata": {},
   "outputs": [
    {
     "data": {
      "text/plain": [
       " * Status: success\n",
       "\n",
       " * Candidate solution\n",
       "    Final objective value:     2.034977e-01\n",
       "\n",
       " * Found with\n",
       "    Algorithm:     Newton's Method (Trust Region)\n",
       "\n",
       " * Convergence measures\n",
       "    |x - x'|               = 2.70e-03 ≰ 0.0e+00\n",
       "    |x - x'|/|x'|          = 1.07e-04 ≰ 0.0e+00\n",
       "    |f(x) - f(x')|         = 1.09e-09 ≰ 0.0e+00\n",
       "    |f(x) - f(x')|/|f(x')| = 5.37e-09 ≰ 0.0e+00\n",
       "    |g(x)|                 = 7.10e-09 ≤ 1.0e-08\n",
       "\n",
       " * Work counters\n",
       "    Seconds run:   0  (vs limit Inf)\n",
       "    Iterations:    9\n",
       "    f(x) calls:    10\n",
       "    ∇f(x) calls:   10\n",
       "    ∇²f(x) calls:  10\n"
      ]
     },
     "execution_count": 42,
     "metadata": {},
     "output_type": "execute_result"
    }
   ],
   "source": [
    "result=optimize(cost,g!,θ,NewtonTrustRegion())"
   ]
  },
  {
   "cell_type": "code",
   "execution_count": null,
   "metadata": {},
   "outputs": [],
   "source": []
  }
 ],
 "metadata": {
  "kernelspec": {
   "display_name": "Julia 1.5.2",
   "language": "julia",
   "name": "julia-1.5"
  },
  "language_info": {
   "file_extension": ".jl",
   "mimetype": "application/julia",
   "name": "julia",
   "version": "1.5.2"
  }
 },
 "nbformat": 4,
 "nbformat_minor": 4
}
