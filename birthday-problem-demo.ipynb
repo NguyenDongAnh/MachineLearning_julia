{
 "cells": [
  {
   "cell_type": "code",
   "execution_count": 1,
   "metadata": {},
   "outputs": [
    {
     "data": {
      "text/plain": [
       "birthday_problem (generic function with 1 method)"
      ]
     },
     "execution_count": 1,
     "metadata": {},
     "output_type": "execute_result"
    }
   ],
   "source": [
    "function birthday_problem(times::Int)\n",
    "    success = 0\n",
    "    for t=1:times\n",
    "        months = rand(1:12,20)\n",
    "        counts = [sum(months .== i) for i=1:12]\n",
    "        success += sum(counts .== 2) == 4 && sum(counts .== 3) == 4\n",
    "    end\n",
    "    success/times\n",
    "end"
   ]
  },
  {
   "cell_type": "code",
   "execution_count": 2,
   "metadata": {},
   "outputs": [
    {
     "name": "stdout",
     "output_type": "stream",
     "text": [
      " 18.830857 seconds (284.32 M allocations: 19.629 GiB, 11.24% gc time)\n"
     ]
    },
    {
     "data": {
      "text/plain": [
       "0.0010613"
      ]
     },
     "execution_count": 2,
     "metadata": {},
     "output_type": "execute_result"
    }
   ],
   "source": [
    "@time birthday_problem(10_000_000)"
   ]
  },
  {
   "cell_type": "code",
   "execution_count": 3,
   "metadata": {},
   "outputs": [],
   "source": [
    "using StaticArrays"
   ]
  },
  {
   "cell_type": "code",
   "execution_count": 4,
   "metadata": {},
   "outputs": [
    {
     "data": {
      "text/plain": [
       "birthday_problem (generic function with 1 method)"
      ]
     },
     "execution_count": 4,
     "metadata": {},
     "output_type": "execute_result"
    }
   ],
   "source": [
    "function birthday_problem(times::Int)\n",
    "    success = 0\n",
    "    for t=1:times\n",
    "        months = @SVector [rand(1:12) for i = 1:20]\n",
    "        counts = @SVector [sum(months .== i) for i=1:12]\n",
    "        success += sum(counts .== 2) == 4 && sum(counts .== 3) == 4\n",
    "    end\n",
    "    success/times\n",
    "end"
   ]
  },
  {
   "cell_type": "code",
   "execution_count": 5,
   "metadata": {},
   "outputs": [
    {
     "name": "stdout",
     "output_type": "stream",
     "text": [
      "  2.293567 seconds\n"
     ]
    },
    {
     "data": {
      "text/plain": [
       "0.001046"
      ]
     },
     "execution_count": 5,
     "metadata": {},
     "output_type": "execute_result"
    }
   ],
   "source": [
    "@time birthday_problem(10_000_000)"
   ]
  },
  {
   "cell_type": "code",
   "execution_count": 6,
   "metadata": {},
   "outputs": [],
   "source": [
    "using FLoops"
   ]
  },
  {
   "cell_type": "code",
   "execution_count": 7,
   "metadata": {},
   "outputs": [
    {
     "data": {
      "text/plain": [
       "birthday_problem (generic function with 2 methods)"
      ]
     },
     "execution_count": 7,
     "metadata": {},
     "output_type": "execute_result"
    }
   ],
   "source": [
    "function birthday_problem(times::Int, cores = 1)\n",
    "    success = 0\n",
    "    @floop ThreadedEx(basesize=times÷cores) for _ in 1:times\n",
    "        months = @SVector [rand(1:12) for i = 1:20]\n",
    "        counts = @SVector [sum(months .== i) for i=1:12]\n",
    "        s = sum(counts .== 2) == 4 && sum(counts .== 3) == 4\n",
    "        @reduce(success += s)\n",
    "    end\n",
    "    success/times\n",
    "end"
   ]
  },
  {
   "cell_type": "code",
   "execution_count": 10,
   "metadata": {},
   "outputs": [
    {
     "name": "stdout",
     "output_type": "stream",
     "text": [
      "  6.236050 seconds (311 allocations: 17.141 KiB)\n"
     ]
    },
    {
     "data": {
      "text/plain": [
       "0.00106308"
      ]
     },
     "execution_count": 10,
     "metadata": {},
     "output_type": "execute_result"
    }
   ],
   "source": [
    "@time birthday_problem(100_000_000,6)"
   ]
  },
  {
   "cell_type": "code",
   "execution_count": 11,
   "metadata": {},
   "outputs": [
    {
     "name": "stdout",
     "output_type": "stream",
     "text": [
      " 64.668998 seconds (1.07 k allocations: 39.500 KiB)\n"
     ]
    },
    {
     "data": {
      "text/plain": [
       "0.001060704"
      ]
     },
     "execution_count": 11,
     "metadata": {},
     "output_type": "execute_result"
    }
   ],
   "source": [
    "@time birthday_problem(1000_000_000,6)"
   ]
  },
  {
   "cell_type": "code",
   "execution_count": 13,
   "metadata": {},
   "outputs": [
    {
     "data": {
      "text/plain": [
       "10"
      ]
     },
     "execution_count": 13,
     "metadata": {},
     "output_type": "execute_result"
    }
   ],
   "source": []
  },
  {
   "cell_type": "code",
   "execution_count": null,
   "metadata": {},
   "outputs": [],
   "source": []
  }
 ],
 "metadata": {
  "kernelspec": {
   "display_name": "Julia (6 threads) 1.5.2",
   "language": "julia",
   "name": "julia-(6-threads)-1.5"
  },
  "language_info": {
   "file_extension": ".jl",
   "mimetype": "application/julia",
   "name": "julia",
   "version": "1.5.2"
  }
 },
 "nbformat": 4,
 "nbformat_minor": 4
}
